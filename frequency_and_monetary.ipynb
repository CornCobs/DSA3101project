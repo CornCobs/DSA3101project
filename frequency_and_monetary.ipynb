{
  "nbformat": 4,
  "nbformat_minor": 0,
  "metadata": {
    "colab": {
      "name": "frequency_and_monetary.ipynb",
      "provenance": [],
      "collapsed_sections": []
    },
    "kernelspec": {
      "name": "python3",
      "display_name": "Python 3"
    }
  },
  "cells": [
    {
      "cell_type": "code",
      "metadata": {
        "id": "2JRfctOAsGm4",
        "outputId": "0439fef6-9149-43e1-99b0-15c3fee34a51",
        "colab": {
          "base_uri": "https://localhost:8080/"
        }
      },
      "source": [
        "# activate R magic\n",
        "%load_ext rpy2.ipython\n",
        "from rpy2 import robjects as ro\n",
        "from rpy2.robjects import pandas2ri\n",
        "# from rpy2.robjects.conversion import localconverter\n",
        "\n",
        "import pandas as pd\n",
        "import os\n",
        "import numpy as np\n",
        "import time\n",
        "from sklearn import preprocessing\n",
        "from sklearn.preprocessing import MinMaxScaler\n",
        "from sklearn.linear_model import LogisticRegression\n",
        "from sklearn.tree import DecisionTreeClassifier\n",
        "\n",
        "data = pd.read_csv(\"/content/drive/My Drive/data/imputed_data.csv\", parse_dates=[1], names=['Panel ID', 'Date', 'Category', 'Pack Size', 'Volume', 'Spend'], skiprows=1)\n",
        "panel_demo = pd.read_excel(\"/content/drive/My Drive/data/DSA3101_Hackathon_Panelists_Demographics.xlsx\")\n",
        "panel_demo.columns = [\"ID\", \"BMI\", \"Income\", \"Ethnicity\", \"Lifestage\", \"Stata\", \"HH\", \"Location\"]"
      ],
      "execution_count": 24,
      "outputs": [
        {
          "output_type": "stream",
          "text": [
            "The rpy2.ipython extension is already loaded. To reload it, use:\n",
            "  %reload_ext rpy2.ipython\n"
          ],
          "name": "stdout"
        }
      ]
    },
    {
      "cell_type": "code",
      "metadata": {
        "id": "eLMWc8a-30jV"
      },
      "source": [
        "#### THIS SECTION IS FOR SELF DEFINED CLUSTERS ####\n",
        "\n",
        "data['Category'] = data['Category'].map({'Baby Cereal': 'Baby',\n",
        "                                         'Beer': 'Alcohol',\n",
        "                                         'Belacan': 'Condiments',\n",
        "                                         'Bird Nest': 'Health Supplements',\n",
        "                                         'Biscuits': 'Snacks',\n",
        "                                         'Bouilon': 'Soup',\n",
        "                                         'Butter': 'Baking',\n",
        "                                         'CSD': 'Drinks',\n",
        "                                         'Cake': 'Baking',\n",
        "                                         'Canned Product': 'Canned Product',\n",
        "                                         'Cereal Beverage': 'Drinks',\n",
        "                                         'Cereals': 'Snacks',\n",
        "                                         'Cheese': 'Cultured Milk Products',\n",
        "                                         'Chicken Essence': 'Health Supplements',\n",
        "                                         'Choc/Nut Spread': 'Spread',\n",
        "                                         'Chocolate': 'Snacks',\n",
        "                                         'Coconut Milk': 'Condiments',\n",
        "                                         'Coffee': 'Drinks',\n",
        "                                         'Condensed/Evap Milk': 'Creamer',\n",
        "                                         'Confectionery': 'Baking',\n",
        "                                         'Cooking Oils': 'Cooking Oils',\n",
        "                                         'Cooking Sauces': 'Condiments',\n",
        "                                         'Cordials': 'Alcohol',\n",
        "                                         'Creamer': 'Creamer',\n",
        "                                         'Cultured Milk': 'Cultured Milk Products',\n",
        "                                         'Drinking Water': 'Drinking Water',\n",
        "                                         'Eggs': 'Eggs',\n",
        "                                         'Energy Drinks': 'Drinks',\n",
        "                                         'Flour': 'Baking',\n",
        "                                         'Frozen Food': 'Frozen Food',\n",
        "                                         'Fruit/Veg Juices': 'Drinks',\n",
        "                                         'Ghee': 'Spread',\n",
        "                                         'Honey': 'Spread',\n",
        "                                         'Ice Cream': 'Cultured Milk Products',\n",
        "                                         'Instant Noodles': 'Noodles',\n",
        "                                         'Instant Soup': 'Soup',\n",
        "                                         'Isotonic Drinks': 'Drinks',\n",
        "                                         'Jam': 'Spread',\n",
        "                                         'Kaya': 'Spread',\n",
        "                                         'Liquid Milk': 'Drinks',\n",
        "                                         'MSG': 'Condiments',\n",
        "                                         'Margarine': 'Baking',\n",
        "                                         'Milk Powder-Adult': 'Milk Powder-Adult',\n",
        "                                         'Milk Powder-Infant': 'Baby',\n",
        "                                         'Milk Powder-Kids': 'Baby',\n",
        "                                         'Peanut Butter': 'Spread',\n",
        "                                         'RTD Coffee': 'Drinks',\n",
        "                                         'RTD Tea': 'Drinks',\n",
        "                                         'Rice': 'Rice',\n",
        "                                         'Salad Dressing': 'Condiments',\n",
        "                                         'Savoury Spread': 'Spread',\n",
        "                                         'Seasoning Powder': 'Condiments',\n",
        "                                         'Snack': 'Snack',\n",
        "                                         'Soy Milk': 'Drinks',\n",
        "                                         'Spagetti': 'Noodles',\n",
        "                                         'Spirits': 'Alcohol',\n",
        "                                         'Sugar': 'Baking',\n",
        "                                         'Tea': 'Drinks',\n",
        "                                         'Tonic Food Drink': 'Drinks',\n",
        "                                         'Wine': 'Alcohol',\n",
        "                                         'Yoghurt Drink': 'Cultured Milk Products',\n",
        "                                         'Yoghurts': 'Cultured Milk Products'})\n",
        "\n"
      ],
      "execution_count": 25,
      "outputs": []
    },
    {
      "cell_type": "code",
      "metadata": {
        "id": "I286i1cK31ua",
        "outputId": "3750c153-0772-499e-9b2c-bc279a9a9597",
        "colab": {
          "base_uri": "https://localhost:8080/",
          "height": 195
        }
      },
      "source": [
        "data.sort_values(\"Date\", inplace=True)\n",
        "\n",
        "le = preprocessing.LabelEncoder()\n",
        "data['Week'] = le.fit_transform(data.Date)\n",
        "\n",
        "data = data[[\"Panel ID\", \"Category\", \"Spend\", \"Week\"]] \\\n",
        "    .groupby([\"Panel ID\", \"Category\", \"Week\"]) \\\n",
        "    .agg({\"Spend\": sum}) \\\n",
        "    .reset_index() \\\n",
        "    .merge(data.groupby([\"Panel ID\"]).agg({\"Week\": min}).reset_index(), on=\"Panel ID\")\n",
        "data.columns = [\"Panel ID\", \"Category\", \"Week\", \"Spend\", \"First Week\"]\n",
        "data.sort_values(\"Week\", inplace=True)\n",
        "data.tail()"
      ],
      "execution_count": 26,
      "outputs": [
        {
          "output_type": "execute_result",
          "data": {
            "text/html": [
              "<div>\n",
              "<style scoped>\n",
              "    .dataframe tbody tr th:only-of-type {\n",
              "        vertical-align: middle;\n",
              "    }\n",
              "\n",
              "    .dataframe tbody tr th {\n",
              "        vertical-align: top;\n",
              "    }\n",
              "\n",
              "    .dataframe thead th {\n",
              "        text-align: right;\n",
              "    }\n",
              "</style>\n",
              "<table border=\"1\" class=\"dataframe\">\n",
              "  <thead>\n",
              "    <tr style=\"text-align: right;\">\n",
              "      <th></th>\n",
              "      <th>Panel ID</th>\n",
              "      <th>Category</th>\n",
              "      <th>Week</th>\n",
              "      <th>Spend</th>\n",
              "      <th>First Week</th>\n",
              "    </tr>\n",
              "  </thead>\n",
              "  <tbody>\n",
              "    <tr>\n",
              "      <th>1444</th>\n",
              "      <td>Panel 101019101</td>\n",
              "      <td>Rice</td>\n",
              "      <td>155</td>\n",
              "      <td>13.0</td>\n",
              "      <td>0</td>\n",
              "    </tr>\n",
              "    <tr>\n",
              "      <th>441718</th>\n",
              "      <td>Panel 258016101</td>\n",
              "      <td>Eggs</td>\n",
              "      <td>155</td>\n",
              "      <td>8.4</td>\n",
              "      <td>0</td>\n",
              "    </tr>\n",
              "    <tr>\n",
              "      <th>577280</th>\n",
              "      <td>Panel 401045101</td>\n",
              "      <td>Baby</td>\n",
              "      <td>155</td>\n",
              "      <td>131.9</td>\n",
              "      <td>0</td>\n",
              "    </tr>\n",
              "    <tr>\n",
              "      <th>441530</th>\n",
              "      <td>Panel 258016101</td>\n",
              "      <td>Cooking Oils</td>\n",
              "      <td>155</td>\n",
              "      <td>7.5</td>\n",
              "      <td>0</td>\n",
              "    </tr>\n",
              "    <tr>\n",
              "      <th>508286</th>\n",
              "      <td>Panel 317052101</td>\n",
              "      <td>Drinks</td>\n",
              "      <td>155</td>\n",
              "      <td>35.5</td>\n",
              "      <td>0</td>\n",
              "    </tr>\n",
              "  </tbody>\n",
              "</table>\n",
              "</div>"
            ],
            "text/plain": [
              "               Panel ID      Category  Week  Spend  First Week\n",
              "1444    Panel 101019101          Rice   155   13.0           0\n",
              "441718  Panel 258016101          Eggs   155    8.4           0\n",
              "577280  Panel 401045101          Baby   155  131.9           0\n",
              "441530  Panel 258016101  Cooking Oils   155    7.5           0\n",
              "508286  Panel 317052101        Drinks   155   35.5           0"
            ]
          },
          "metadata": {
            "tags": []
          },
          "execution_count": 26
        }
      ]
    },
    {
      "cell_type": "code",
      "metadata": {
        "id": "QB0IKPUBUxDS",
        "outputId": "1a0fe18b-195e-4a53-9755-6953e1b3e6e1",
        "colab": {
          "base_uri": "https://localhost:8080/"
        }
      },
      "source": [
        "# start from half a year late because we aren't sure if the customer is a new customer in the first 6 months\n",
        "# end half a year early because of covid19 impacts\n",
        "subset = data[(data[\"First Week\"] >= 26) & (data[\"First Week\"] < 156-26) & (data[\"Week\"] >= 26) & (data[\"Week\"] < 156-26)]\n",
        "print(subset[\"Panel ID\"].unique().shape)"
      ],
      "execution_count": 27,
      "outputs": [
        {
          "output_type": "stream",
          "text": [
            "(776,)\n"
          ],
          "name": "stdout"
        }
      ]
    },
    {
      "cell_type": "code",
      "metadata": {
        "id": "gHNM-AVNXWgT",
        "outputId": "6ab50b0d-eab3-49cc-e026-e48986b81d1d",
        "colab": {
          "base_uri": "https://localhost:8080/",
          "height": 195
        }
      },
      "source": [
        "subset.head()"
      ],
      "execution_count": 28,
      "outputs": [
        {
          "output_type": "execute_result",
          "data": {
            "text/html": [
              "<div>\n",
              "<style scoped>\n",
              "    .dataframe tbody tr th:only-of-type {\n",
              "        vertical-align: middle;\n",
              "    }\n",
              "\n",
              "    .dataframe tbody tr th {\n",
              "        vertical-align: top;\n",
              "    }\n",
              "\n",
              "    .dataframe thead th {\n",
              "        text-align: right;\n",
              "    }\n",
              "</style>\n",
              "<table border=\"1\" class=\"dataframe\">\n",
              "  <thead>\n",
              "    <tr style=\"text-align: right;\">\n",
              "      <th></th>\n",
              "      <th>Panel ID</th>\n",
              "      <th>Category</th>\n",
              "      <th>Week</th>\n",
              "      <th>Spend</th>\n",
              "      <th>First Week</th>\n",
              "    </tr>\n",
              "  </thead>\n",
              "  <tbody>\n",
              "    <tr>\n",
              "      <th>851451</th>\n",
              "      <td>Panel 800792201</td>\n",
              "      <td>Creamer</td>\n",
              "      <td>26</td>\n",
              "      <td>4.4</td>\n",
              "      <td>26</td>\n",
              "    </tr>\n",
              "    <tr>\n",
              "      <th>851455</th>\n",
              "      <td>Panel 800792201</td>\n",
              "      <td>Drinking Water</td>\n",
              "      <td>26</td>\n",
              "      <td>12.0</td>\n",
              "      <td>26</td>\n",
              "    </tr>\n",
              "    <tr>\n",
              "      <th>849316</th>\n",
              "      <td>Panel 800751401</td>\n",
              "      <td>Drinks</td>\n",
              "      <td>26</td>\n",
              "      <td>34.2</td>\n",
              "      <td>26</td>\n",
              "    </tr>\n",
              "    <tr>\n",
              "      <th>849346</th>\n",
              "      <td>Panel 800751401</td>\n",
              "      <td>Eggs</td>\n",
              "      <td>26</td>\n",
              "      <td>11.0</td>\n",
              "      <td>26</td>\n",
              "    </tr>\n",
              "    <tr>\n",
              "      <th>849424</th>\n",
              "      <td>Panel 800751401</td>\n",
              "      <td>Snack</td>\n",
              "      <td>26</td>\n",
              "      <td>18.2</td>\n",
              "      <td>26</td>\n",
              "    </tr>\n",
              "  </tbody>\n",
              "</table>\n",
              "</div>"
            ],
            "text/plain": [
              "               Panel ID        Category  Week  Spend  First Week\n",
              "851451  Panel 800792201         Creamer    26    4.4          26\n",
              "851455  Panel 800792201  Drinking Water    26   12.0          26\n",
              "849316  Panel 800751401          Drinks    26   34.2          26\n",
              "849346  Panel 800751401            Eggs    26   11.0          26\n",
              "849424  Panel 800751401           Snack    26   18.2          26"
            ]
          },
          "metadata": {
            "tags": []
          },
          "execution_count": 28
        }
      ]
    },
    {
      "cell_type": "code",
      "metadata": {
        "id": "E53ooSiGr4M-",
        "outputId": "df1e80cd-9305-4868-c401-beba3f0bd75a",
        "colab": {
          "base_uri": "https://localhost:8080/"
        }
      },
      "source": [
        "%%time\n",
        "def week_EMA(x):\n",
        "    lst = x.shift(-1)-x\n",
        "    return lst.ewm(alpha=1e-3).mean().tail(1).values\n",
        "\n",
        "def Monetary_EMA(x):\n",
        "    return x.ewm(alpha=1e-3).mean().tail(1).values\n",
        "\n",
        "def frequency(data):\n",
        "    df = data.groupby([\"Panel ID\", \"Week\"]) \\\n",
        "        .agg({'Spend': sum}) \\\n",
        "        .reset_index()\n",
        "\n",
        "    df_last_week = data[[\"Panel ID\"]].drop_duplicates()\n",
        "    df_last_week[\"Week\"] = 156 - 26 - 1\n",
        "\n",
        "    df = df.merge(df_last_week, on=[\"Panel ID\", \"Week\"], how=\"outer\") \\\n",
        "        .fillna(0.) \\\n",
        "        .groupby(\"Panel ID\") \\\n",
        "        .agg({\"Week\": [min, max, week_EMA]}) \\\n",
        "        .reset_index()\n",
        "    \n",
        "    df.columns = [\"Panel ID\", \"First Week\", \"Last Week\", \"Frequency_EMA\"]\n",
        "    df = df[df[\"First Week\"] <= 156 - 26 -3]    # remove customers that newly joined close to our cutoff date\n",
        "    return df[[\"Panel ID\", \"Frequency_EMA\"]]\n",
        "\n",
        "def monetary(data):\n",
        "    df = data.groupby([\"Panel ID\", \"Week\"]) \\\n",
        "        .agg({'Spend': sum}) \\\n",
        "        .reset_index() \\\n",
        "        .pivot_table(index=['Panel ID'], columns='Week', values='Spend') \\\n",
        "        .fillna(0.) \\\n",
        "        .reset_index() \\\n",
        "        .melt(id_vars=[\"Panel ID\"], value_vars=list(range(26, 156-26)))\n",
        "\n",
        "    df = df.merge(data[[\"Panel ID\", \"First Week\"]], on=\"Panel ID\", how=\"left\")\n",
        "    df = df[df[\"First Week\"] <= df[\"Week\"]]\n",
        "    df = df.groupby(\"Panel ID\") \\\n",
        "        .agg({\"value\": Monetary_EMA}) \\\n",
        "        .reset_index()\n",
        "\n",
        "    df.columns = [\"Panel ID\", \"Monetary_EMA\"]\n",
        "    return df\n",
        "\n",
        "def first_purchases(df):\n",
        "    pivot = data.pivot_table(index=['Panel ID', \"First Week\"], columns='Category', values='Spend')\n",
        "    df = df[[\"Panel ID\", \"First Week\"]] \\\n",
        "        .merge(data[[\"Panel ID\", \"Week\", \"Category\", \"Spend\"]], how=\"left\", left_on=[\"Panel ID\", \"First Week\"], right_on=[\"Panel ID\", \"Week\"]) \\\n",
        "        .pivot_table(index=['Panel ID', 'First Week'], columns='Category', values='Spend') \\\n",
        "        .reset_index()\n",
        "    df = pd.concat([df, pd.DataFrame(columns=list(pivot.columns[~pivot.columns.isin(df.columns)]))]) \\\n",
        "        .fillna(0.) \\\n",
        "        .drop(['First Week'], axis=1)\n",
        "    return df\n",
        "\n",
        "subset_df = frequency(subset) \\\n",
        "    .merge(monetary(subset), on=\"Panel ID\", how=\"left\") \\\n",
        "    .merge(first_purchases(subset), on=[\"Panel ID\"], how=\"left\") \\\n",
        "    .merge(panel_demo, how=\"left\", left_on=\"Panel ID\", right_on=\"ID\") \\\n",
        "    .drop(['ID'], axis=1)\n",
        "\n",
        "print(subset_df.shape)"
      ],
      "execution_count": 29,
      "outputs": [
        {
          "output_type": "stream",
          "text": [
            "(762, 30)\n",
            "CPU times: user 2.59 s, sys: 66.7 ms, total: 2.66 s\n",
            "Wall time: 2.66 s\n"
          ],
          "name": "stdout"
        }
      ]
    },
    {
      "cell_type": "code",
      "metadata": {
        "id": "3mBowGkXYu6m",
        "outputId": "7eb103a7-c98a-4e84-8fe4-1dd17bf7efe7",
        "colab": {
          "base_uri": "https://localhost:8080/",
          "height": 417
        }
      },
      "source": [
        "subset_df.head()"
      ],
      "execution_count": 30,
      "outputs": [
        {
          "output_type": "execute_result",
          "data": {
            "text/html": [
              "<div>\n",
              "<style scoped>\n",
              "    .dataframe tbody tr th:only-of-type {\n",
              "        vertical-align: middle;\n",
              "    }\n",
              "\n",
              "    .dataframe tbody tr th {\n",
              "        vertical-align: top;\n",
              "    }\n",
              "\n",
              "    .dataframe thead th {\n",
              "        text-align: right;\n",
              "    }\n",
              "</style>\n",
              "<table border=\"1\" class=\"dataframe\">\n",
              "  <thead>\n",
              "    <tr style=\"text-align: right;\">\n",
              "      <th></th>\n",
              "      <th>Panel ID</th>\n",
              "      <th>Frequency_EMA</th>\n",
              "      <th>Monetary_EMA</th>\n",
              "      <th>Alcohol</th>\n",
              "      <th>Baby</th>\n",
              "      <th>Baking</th>\n",
              "      <th>Canned Product</th>\n",
              "      <th>Condiments</th>\n",
              "      <th>Cooking Oils</th>\n",
              "      <th>Creamer</th>\n",
              "      <th>Cultured Milk Products</th>\n",
              "      <th>Drinking Water</th>\n",
              "      <th>Drinks</th>\n",
              "      <th>Eggs</th>\n",
              "      <th>Frozen Food</th>\n",
              "      <th>Health Supplements</th>\n",
              "      <th>Milk Powder-Adult</th>\n",
              "      <th>Noodles</th>\n",
              "      <th>Rice</th>\n",
              "      <th>Snack</th>\n",
              "      <th>Snacks</th>\n",
              "      <th>Soup</th>\n",
              "      <th>Spread</th>\n",
              "      <th>BMI</th>\n",
              "      <th>Income</th>\n",
              "      <th>Ethnicity</th>\n",
              "      <th>Lifestage</th>\n",
              "      <th>Stata</th>\n",
              "      <th>HH</th>\n",
              "      <th>Location</th>\n",
              "    </tr>\n",
              "  </thead>\n",
              "  <tbody>\n",
              "    <tr>\n",
              "      <th>0</th>\n",
              "      <td>Panel 122008104</td>\n",
              "      <td>1.274671</td>\n",
              "      <td>100.134157</td>\n",
              "      <td>0.0</td>\n",
              "      <td>17.9</td>\n",
              "      <td>9.9</td>\n",
              "      <td>0.0</td>\n",
              "      <td>11.7</td>\n",
              "      <td>5.0</td>\n",
              "      <td>4.8</td>\n",
              "      <td>0.0</td>\n",
              "      <td>3.6</td>\n",
              "      <td>48.7</td>\n",
              "      <td>19.0</td>\n",
              "      <td>17.0</td>\n",
              "      <td>0.0</td>\n",
              "      <td>23.6</td>\n",
              "      <td>11.0</td>\n",
              "      <td>0.0</td>\n",
              "      <td>2.0</td>\n",
              "      <td>17.9</td>\n",
              "      <td>0.0</td>\n",
              "      <td>0.0</td>\n",
              "      <td>Healthy</td>\n",
              "      <td>Income 3000 - 3999</td>\n",
              "      <td>North Malay</td>\n",
              "      <td>Teens and Toddlers</td>\n",
              "      <td>Rural</td>\n",
              "      <td>7+ Member HH</td>\n",
              "      <td>North</td>\n",
              "    </tr>\n",
              "    <tr>\n",
              "      <th>1</th>\n",
              "      <td>Panel 132002105</td>\n",
              "      <td>6.992997</td>\n",
              "      <td>2.567916</td>\n",
              "      <td>0.0</td>\n",
              "      <td>0.0</td>\n",
              "      <td>0.0</td>\n",
              "      <td>0.0</td>\n",
              "      <td>0.0</td>\n",
              "      <td>0.0</td>\n",
              "      <td>0.0</td>\n",
              "      <td>0.0</td>\n",
              "      <td>0.0</td>\n",
              "      <td>14.7</td>\n",
              "      <td>0.0</td>\n",
              "      <td>0.0</td>\n",
              "      <td>0.0</td>\n",
              "      <td>0.0</td>\n",
              "      <td>0.0</td>\n",
              "      <td>38.8</td>\n",
              "      <td>0.0</td>\n",
              "      <td>0.0</td>\n",
              "      <td>0.0</td>\n",
              "      <td>0.0</td>\n",
              "      <td>Healthy</td>\n",
              "      <td>Income 1500 - 1999</td>\n",
              "      <td>North Chinese</td>\n",
              "      <td>Matured Families</td>\n",
              "      <td>Urban</td>\n",
              "      <td>1-3 Member HH</td>\n",
              "      <td>North</td>\n",
              "    </tr>\n",
              "    <tr>\n",
              "      <th>2</th>\n",
              "      <td>Panel 132025107</td>\n",
              "      <td>1.922439</td>\n",
              "      <td>19.617796</td>\n",
              "      <td>31.9</td>\n",
              "      <td>0.0</td>\n",
              "      <td>5.9</td>\n",
              "      <td>0.0</td>\n",
              "      <td>0.0</td>\n",
              "      <td>0.0</td>\n",
              "      <td>0.0</td>\n",
              "      <td>6.6</td>\n",
              "      <td>0.0</td>\n",
              "      <td>0.0</td>\n",
              "      <td>0.0</td>\n",
              "      <td>0.0</td>\n",
              "      <td>0.0</td>\n",
              "      <td>0.0</td>\n",
              "      <td>0.0</td>\n",
              "      <td>23.0</td>\n",
              "      <td>0.0</td>\n",
              "      <td>0.0</td>\n",
              "      <td>0.0</td>\n",
              "      <td>0.0</td>\n",
              "      <td>Healthy</td>\n",
              "      <td>Income &gt;5000</td>\n",
              "      <td>North Chinese</td>\n",
              "      <td>Teens Aches</td>\n",
              "      <td>Urban</td>\n",
              "      <td>6 Member HH</td>\n",
              "      <td>North</td>\n",
              "    </tr>\n",
              "    <tr>\n",
              "      <th>3</th>\n",
              "      <td>Panel 204025103</td>\n",
              "      <td>1.091319</td>\n",
              "      <td>17.906255</td>\n",
              "      <td>0.0</td>\n",
              "      <td>0.0</td>\n",
              "      <td>0.0</td>\n",
              "      <td>0.0</td>\n",
              "      <td>3.9</td>\n",
              "      <td>18.8</td>\n",
              "      <td>0.0</td>\n",
              "      <td>6.0</td>\n",
              "      <td>0.0</td>\n",
              "      <td>0.0</td>\n",
              "      <td>0.0</td>\n",
              "      <td>11.8</td>\n",
              "      <td>0.0</td>\n",
              "      <td>0.0</td>\n",
              "      <td>0.0</td>\n",
              "      <td>0.0</td>\n",
              "      <td>0.0</td>\n",
              "      <td>0.0</td>\n",
              "      <td>0.0</td>\n",
              "      <td>0.0</td>\n",
              "      <td>Under Weight</td>\n",
              "      <td>Income 4000 - 4999</td>\n",
              "      <td>Central Malay</td>\n",
              "      <td>Nesting Families</td>\n",
              "      <td>Urban</td>\n",
              "      <td>7+ Member HH</td>\n",
              "      <td>Central</td>\n",
              "    </tr>\n",
              "    <tr>\n",
              "      <th>4</th>\n",
              "      <td>Panel 211075102</td>\n",
              "      <td>21.780401</td>\n",
              "      <td>1.003899</td>\n",
              "      <td>0.0</td>\n",
              "      <td>0.0</td>\n",
              "      <td>3.8</td>\n",
              "      <td>0.0</td>\n",
              "      <td>0.0</td>\n",
              "      <td>0.0</td>\n",
              "      <td>0.0</td>\n",
              "      <td>0.0</td>\n",
              "      <td>0.0</td>\n",
              "      <td>1.8</td>\n",
              "      <td>0.0</td>\n",
              "      <td>0.0</td>\n",
              "      <td>0.0</td>\n",
              "      <td>0.0</td>\n",
              "      <td>0.0</td>\n",
              "      <td>0.0</td>\n",
              "      <td>2.2</td>\n",
              "      <td>0.0</td>\n",
              "      <td>0.0</td>\n",
              "      <td>0.0</td>\n",
              "      <td>Under Weight</td>\n",
              "      <td>Income &gt;5000</td>\n",
              "      <td>Central Others</td>\n",
              "      <td>Teens Aches</td>\n",
              "      <td>Urban</td>\n",
              "      <td>4 Member HH</td>\n",
              "      <td>Central</td>\n",
              "    </tr>\n",
              "  </tbody>\n",
              "</table>\n",
              "</div>"
            ],
            "text/plain": [
              "          Panel ID  Frequency_EMA  Monetary_EMA  ...  Stata             HH  Location\n",
              "0  Panel 122008104       1.274671    100.134157  ...  Rural   7+ Member HH     North\n",
              "1  Panel 132002105       6.992997      2.567916  ...  Urban  1-3 Member HH     North\n",
              "2  Panel 132025107       1.922439     19.617796  ...  Urban    6 Member HH     North\n",
              "3  Panel 204025103       1.091319     17.906255  ...  Urban   7+ Member HH   Central\n",
              "4  Panel 211075102      21.780401      1.003899  ...  Urban    4 Member HH   Central\n",
              "\n",
              "[5 rows x 30 columns]"
            ]
          },
          "metadata": {
            "tags": []
          },
          "execution_count": 30
        }
      ]
    },
    {
      "cell_type": "code",
      "metadata": {
        "id": "2ZQi1zWTwJff",
        "outputId": "7fd218ac-6b41-4ab5-afb2-c341c576a5a0",
        "colab": {
          "base_uri": "https://localhost:8080/"
        }
      },
      "source": [
        "subset_df.Frequency_EMA.value_counts(normalize=True, bins=range(0, 52, 2))\n",
        "# ~53.8% of the panels in training have Frequency_EMA <= 2 so we can consider a customer to be frequent if the Frequency_EMA <= 2"
      ],
      "execution_count": 31,
      "outputs": [
        {
          "output_type": "execute_result",
          "data": {
            "text/plain": [
              "(-0.001, 2.0]    0.538058\n",
              "(2.0, 4.0]       0.154856\n",
              "(4.0, 6.0]       0.086614\n",
              "(6.0, 8.0]       0.035433\n",
              "(10.0, 12.0]     0.031496\n",
              "(8.0, 10.0]      0.020997\n",
              "(16.0, 18.0]     0.017060\n",
              "(12.0, 14.0]     0.017060\n",
              "(24.0, 26.0]     0.017060\n",
              "(20.0, 22.0]     0.014436\n",
              "(22.0, 24.0]     0.007874\n",
              "(32.0, 34.0]     0.007874\n",
              "(14.0, 16.0]     0.007874\n",
              "(28.0, 30.0]     0.006562\n",
              "(18.0, 20.0]     0.006562\n",
              "(30.0, 32.0]     0.003937\n",
              "(46.0, 48.0]     0.002625\n",
              "(40.0, 42.0]     0.002625\n",
              "(26.0, 28.0]     0.001312\n",
              "(34.0, 36.0]     0.001312\n",
              "(36.0, 38.0]     0.001312\n",
              "(42.0, 44.0]     0.001312\n",
              "(44.0, 46.0]     0.001312\n",
              "(48.0, 50.0]     0.001312\n",
              "(38.0, 40.0]     0.000000\n",
              "Name: Frequency_EMA, dtype: float64"
            ]
          },
          "metadata": {
            "tags": []
          },
          "execution_count": 31
        }
      ]
    },
    {
      "cell_type": "code",
      "metadata": {
        "id": "M0L2BNOuV5GA",
        "outputId": "89cfb726-61ec-47b4-dc6a-96844a0bcd1e",
        "colab": {
          "base_uri": "https://localhost:8080/"
        }
      },
      "source": [
        "subset_df.Monetary_EMA.value_counts(normalize=True, bins=range(0, int(subset_df.Monetary_EMA.max())+1, 40))\n",
        "# ~79.5% of the panels in training have Monetary_EMA <= 40 so we can consider a customer to be low spender if the Monetary_EMA <= 40"
      ],
      "execution_count": 32,
      "outputs": [
        {
          "output_type": "execute_result",
          "data": {
            "text/plain": [
              "(-0.001, 40.0]    0.795276\n",
              "(40.0, 80.0]      0.158793\n",
              "(80.0, 120.0]     0.032808\n",
              "(120.0, 160.0]    0.007874\n",
              "Name: Monetary_EMA, dtype: float64"
            ]
          },
          "metadata": {
            "tags": []
          },
          "execution_count": 32
        }
      ]
    },
    {
      "cell_type": "markdown",
      "metadata": {
        "id": "JBgwbqxigcY-"
      },
      "source": [
        "# Modeling"
      ]
    },
    {
      "cell_type": "code",
      "metadata": {
        "id": "QHxH3NNZgbqO",
        "outputId": "efb83cff-a0e2-405c-85ef-7674ec62a895",
        "colab": {
          "base_uri": "https://localhost:8080/"
        }
      },
      "source": [
        "scaler = None\n",
        "def dataloader(df, scalar, target, scale=True):\n",
        "    columns = list(panel_demo.columns)\n",
        "    columns.remove(\"ID\")\n",
        "    data_df = df.copy()\n",
        "    data_df[\"Frequency_EMA\"] = (data_df[\"Frequency_EMA\"] <= 2).map(int)\n",
        "    data_df[\"Monetary_EMA\"] = (data_df[\"Monetary_EMA\"] > 40).map(int)\n",
        "    data_df = pd.get_dummies(data_df, columns=columns, dtype=float)\n",
        "    data = data_df.drop(['Panel ID', 'Frequency_EMA', 'Monetary_EMA'], axis=1)\n",
        "    if scale:\n",
        "        if scaler == None:\n",
        "            X = pd.DataFrame(MinMaxScaler().fit_transform(data), \n",
        "                                columns=data.columns)\n",
        "        else:\n",
        "            X = pd.DataFrame(scaler.transform(data), \n",
        "                                columns=data.columns)\n",
        "    else:\n",
        "        X = data.copy()\n",
        "    y = data_df[target]\n",
        "    data = pd.concat([X, y], axis=1)\n",
        "    return X, y, data, scalar\n",
        "    \n",
        "X, y, df, scaler = dataloader(subset_df, scaler, target=\"Frequency_EMA\", scale=False)\n",
        "# X, y, df, scaler = dataloader(subset_df, scaler, target=\"Monetary_EMA\", scale=False)\n",
        "print(X.shape, y.shape, df.shape)"
      ],
      "execution_count": 33,
      "outputs": [
        {
          "output_type": "stream",
          "text": [
            "(762, 59) (762,) (762, 60)\n"
          ],
          "name": "stdout"
        }
      ]
    },
    {
      "cell_type": "code",
      "metadata": {
        "id": "KpTeZ9D_45KN",
        "outputId": "ee4a488f-46ca-4a33-dcc9-9ac0229ef449",
        "colab": {
          "base_uri": "https://localhost:8080/"
        }
      },
      "source": [
        "from sklearn.model_selection import train_test_split\n",
        "X_train, X_test, y_train, y_test = train_test_split(X, y, test_size=0.25, random_state=42, stratify = y)\n",
        "train_df = pd.concat([X_train, y_train], axis=1)\n",
        "test_df = pd.concat([X_test, y_test], axis=1)\n",
        "print(X_train.shape, X_test.shape, y_train.shape, y_test.shape, train_df.shape, test_df.shape)"
      ],
      "execution_count": 34,
      "outputs": [
        {
          "output_type": "stream",
          "text": [
            "(571, 59) (191, 59) (571,) (191,) (571, 60) (191, 60)\n"
          ],
          "name": "stdout"
        }
      ]
    },
    {
      "cell_type": "code",
      "metadata": {
        "id": "kPM02VekXtG3",
        "outputId": "2098e2dc-4b13-4e77-ea09-15977918afa0",
        "colab": {
          "base_uri": "https://localhost:8080/"
        }
      },
      "source": [
        "%%time\n",
        "%%R\n",
        "library(tidyverse)\n",
        "install.packages(\"pROC\")\n",
        "library(pROC)"
      ],
      "execution_count": 35,
      "outputs": [
        {
          "output_type": "stream",
          "text": [
            "R[write to console]: Installing package into ‘/usr/local/lib/R/site-library’\n",
            "(as ‘lib’ is unspecified)\n",
            "\n",
            "R[write to console]: trying URL 'https://cran.rstudio.com/src/contrib/pROC_1.16.2.tar.gz'\n",
            "\n",
            "R[write to console]: Content type 'application/x-gzip'\n",
            "R[write to console]:  length 371822 bytes (363 KB)\n",
            "\n",
            "R[write to console]: =\n",
            "R[write to console]: =\n",
            "R[write to console]: =\n",
            "R[write to console]: =\n",
            "R[write to console]: =\n",
            "R[write to console]: =\n",
            "R[write to console]: =\n",
            "R[write to console]: =\n",
            "R[write to console]: =\n",
            "R[write to console]: =\n",
            "R[write to console]: =\n",
            "R[write to console]: =\n",
            "R[write to console]: =\n",
            "R[write to console]: =\n",
            "R[write to console]: =\n",
            "R[write to console]: =\n",
            "R[write to console]: =\n",
            "R[write to console]: =\n",
            "R[write to console]: =\n",
            "R[write to console]: =\n",
            "R[write to console]: =\n",
            "R[write to console]: =\n",
            "R[write to console]: =\n",
            "R[write to console]: =\n",
            "R[write to console]: =\n",
            "R[write to console]: =\n",
            "R[write to console]: =\n",
            "R[write to console]: =\n",
            "R[write to console]: =\n",
            "R[write to console]: =\n",
            "R[write to console]: =\n",
            "R[write to console]: =\n",
            "R[write to console]: =\n",
            "R[write to console]: =\n",
            "R[write to console]: =\n",
            "R[write to console]: =\n",
            "R[write to console]: =\n",
            "R[write to console]: =\n",
            "R[write to console]: =\n",
            "R[write to console]: =\n",
            "R[write to console]: =\n",
            "R[write to console]: =\n",
            "R[write to console]: =\n",
            "R[write to console]: =\n",
            "R[write to console]: =\n",
            "R[write to console]: =\n",
            "R[write to console]: =\n",
            "R[write to console]: =\n",
            "R[write to console]: =\n",
            "R[write to console]: =\n",
            "R[write to console]: \n",
            "\n",
            "R[write to console]: downloaded 363 KB\n",
            "\n",
            "\n",
            "R[write to console]: \n",
            "\n",
            "R[write to console]: \n",
            "R[write to console]: The downloaded source packages are in\n",
            "\t‘/tmp/RtmpFIF2yZ/downloaded_packages’\n",
            "R[write to console]: \n",
            "R[write to console]: \n",
            "\n"
          ],
          "name": "stderr"
        },
        {
          "output_type": "stream",
          "text": [
            "CPU times: user 711 ms, sys: 31.6 ms, total: 743 ms\n",
            "Wall time: 21.7 s\n"
          ],
          "name": "stdout"
        }
      ]
    },
    {
      "cell_type": "code",
      "metadata": {
        "id": "VqM9-BMZgadO",
        "outputId": "c1845aed-74c5-4cde-e2f2-86473f87e93c",
        "colab": {
          "base_uri": "https://localhost:8080/"
        }
      },
      "source": [
        "%%time\n",
        "%%R -i X_train,X_test,y_train,y_test,train_df,test_df,X,y,df\n",
        "\n",
        "full <- glm(Frequency_EMA~., data=df, family=\"binomial\")\n",
        "null <- glm(Frequency_EMA~1, data=df, family=\"binomial\")\n",
        "logreg <- step(null, scope=list(lower=formula(null), upper=formula(full)), direction=\"both\", trace=0, k=2)    # AIC criterion\n",
        "summary(logreg)"
      ],
      "execution_count": 36,
      "outputs": [
        {
          "output_type": "stream",
          "text": [
            "\n",
            "Call:\n",
            "glm(formula = Frequency_EMA ~ Rice + BMI_Under.Weight + Ethnicity_East.Coast.Malay + \n",
            "    Cooking.Oils + Income_Income..5000 + Ethnicity_North.Chinese + \n",
            "    Lifestage_Matured.Families + Ethnicity_Central.Others + Ethnicity_Central.Chinese + \n",
            "    Condiments + Canned.Product + BMI_Over.Weight + Baking + \n",
            "    Cultured.Milk.Products + Lifestage_Empty.Nesters, family = \"binomial\", \n",
            "    data = df)\n",
            "\n",
            "Deviance Residuals: \n",
            "    Min       1Q   Median       3Q      Max  \n",
            "-2.2403  -1.1238   0.5876   1.0173   2.2959  \n",
            "\n",
            "Coefficients:\n",
            "                            Estimate Std. Error z value Pr(>|z|)    \n",
            "(Intercept)                 0.388917   0.141816   2.742 0.006099 ** \n",
            "Rice                       -0.017936   0.005609  -3.198 0.001385 ** \n",
            "BMI_Under.Weight           -0.978360   0.260892  -3.750 0.000177 ***\n",
            "Ethnicity_East.Coast.Malay -0.345996   0.180965  -1.912 0.055882 .  \n",
            "Cooking.Oils               -0.036853   0.012213  -3.017 0.002549 ** \n",
            "Income_Income..5000         0.437661   0.192401   2.275 0.022922 *  \n",
            "Ethnicity_North.Chinese     1.598126   0.676556   2.362 0.018169 *  \n",
            "Lifestage_Matured.Families -0.855502   0.309810  -2.761 0.005756 ** \n",
            "Ethnicity_Central.Others    1.330394   0.599024   2.221 0.026355 *  \n",
            "Ethnicity_Central.Chinese   0.842446   0.403289   2.089 0.036713 *  \n",
            "Condiments                  0.025120   0.011809   2.127 0.033405 *  \n",
            "Canned.Product             -0.044665   0.027277  -1.637 0.101536    \n",
            "BMI_Over.Weight             0.314334   0.179406   1.752 0.079759 .  \n",
            "Baking                     -0.018987   0.010603  -1.791 0.073324 .  \n",
            "Cultured.Milk.Products      0.033522   0.020255   1.655 0.097924 .  \n",
            "Lifestage_Empty.Nesters     0.926914   0.626175   1.480 0.138799    \n",
            "---\n",
            "Signif. codes:  0 ‘***’ 0.001 ‘**’ 0.01 ‘*’ 0.05 ‘.’ 0.1 ‘ ’ 1\n",
            "\n",
            "(Dispersion parameter for binomial family taken to be 1)\n",
            "\n",
            "    Null deviance: 1051.94  on 761  degrees of freedom\n",
            "Residual deviance:  951.26  on 746  degrees of freedom\n",
            "AIC: 983.26\n",
            "\n",
            "Number of Fisher Scoring iterations: 4\n",
            "\n",
            "CPU times: user 4.37 s, sys: 1.47 s, total: 5.84 s\n",
            "Wall time: 4.27 s\n"
          ],
          "name": "stdout"
        }
      ]
    },
    {
      "cell_type": "code",
      "metadata": {
        "id": "cDMzV_pugafv",
        "outputId": "f3e85404-e90a-4bcf-98cd-fcc8528d7c9b",
        "colab": {
          "base_uri": "https://localhost:8080/"
        }
      },
      "source": [
        "%%R\n",
        "prob_test <- predict(logreg, type=\"response\")\n",
        "acc_vec <- sapply(seq(0, 1, 0.001), function(x){\n",
        "    class_test <- as.numeric(prob_test > x)\n",
        "    accuracy <- mean(class_test == y)\n",
        "})\n",
        "threshold <- which.max(acc_vec)/1000\n",
        "class_test <- as.numeric(prob_test > threshold)\n",
        "CM <- table(class_test, y)\n",
        "sensitivity <- CM[2,2]/(sum(CM[,2]))\n",
        "specificity <- CM[1,1]/(sum(CM[,1]))\n",
        "accuracy <- mean(class_test == y)\n",
        "print(roc(class_test, y))\n",
        "print(threshold)\n",
        "print(accuracy)\n",
        "CM"
      ],
      "execution_count": 37,
      "outputs": [
        {
          "output_type": "stream",
          "text": [
            "R[write to console]: Setting levels: control = 0, case = 1\n",
            "\n",
            "R[write to console]: Setting direction: controls < cases\n",
            "\n"
          ],
          "name": "stderr"
        },
        {
          "output_type": "stream",
          "text": [
            "\n",
            "Call:\n",
            "roc.default(response = class_test, predictor = y)\n",
            "\n",
            "Data: y in 313 controls (class_test 0) < 449 cases (class_test 1).\n",
            "Area under the curve: 0.6448\n",
            "[1] 0.512\n",
            "[1] 0.6469816\n",
            "          y\n",
            "class_test   0   1\n",
            "         0 198 115\n",
            "         1 154 295\n"
          ],
          "name": "stdout"
        }
      ]
    },
    {
      "cell_type": "code",
      "metadata": {
        "id": "J5G3SU-zNiZc"
      },
      "source": [
        ""
      ],
      "execution_count": null,
      "outputs": []
    },
    {
      "cell_type": "code",
      "metadata": {
        "id": "bUgY2q1kNiW7"
      },
      "source": [
        ""
      ],
      "execution_count": null,
      "outputs": []
    }
  ]
}