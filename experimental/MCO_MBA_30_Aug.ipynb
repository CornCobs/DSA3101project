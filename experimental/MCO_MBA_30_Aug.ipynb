{
 "cells": [
  {
   "cell_type": "code",
   "execution_count": 1,
   "metadata": {},
   "outputs": [],
   "source": [
    "import pandas as pd\n",
    "import seaborn as sns\n",
    "import matplotlib.pyplot as plt\n",
    "from mlxtend.frequent_patterns import apriori\n",
    "from mlxtend.frequent_patterns import association_rules"
   ]
  },
  {
   "cell_type": "code",
   "execution_count": 11,
   "metadata": {},
   "outputs": [],
   "source": [
    "def get_mba_rules(data):\n",
    "    data[\"Ones\"] = 1\n",
    "    basket_set = data.groupby([\"Transaction\", \"Category\"])[\"Ones\"].sum().unstack().fillna(0).reset_index().set_index(\"Transaction\")\n",
    "    frequent_itemsets = apriori(basket_set, min_support = 0.01, use_colnames = True) #1% support\n",
    "    \n",
    "    rules = association_rules(frequent_itemsets, metric=\"confidence\", min_threshold=0.01) #1% confidence\n",
    "    rules.drop(['leverage','conviction'],axis=1,inplace=True)\n",
    "    \n",
    "    rules[\"antecedents\"] = rules[\"antecedents\"].apply(lambda x: list(x)[0]).astype(\"unicode\")\n",
    "    rules[\"consequents\"] = rules[\"consequents\"].apply(lambda x: list(x)[0]).astype(\"unicode\")\n",
    "    \n",
    "    return rules"
   ]
  },
  {
   "cell_type": "code",
   "execution_count": 12,
   "metadata": {},
   "outputs": [],
   "source": [
    "preHIHM = pd.read_csv('../cleaned_data/preMCOHIHM_transactions.csv')\n",
    "preHILM = pd.read_csv('../cleaned_data/preMCOHILM_transactions.csv')\n",
    "postHIHM = pd.read_csv('../cleaned_data/postMCOHIHM_transactions.csv')\n",
    "postHILM = pd.read_csv('../cleaned_data/postMCOHILM_transactions.csv')"
   ]
  },
  {
   "cell_type": "code",
   "execution_count": 13,
   "metadata": {},
   "outputs": [],
   "source": [
    "preHIHM_mba = get_mba_rules(preHIHM)\n",
    "preHILM_mba = get_mba_rules(preHILM)\n",
    "postHIHM_mba = get_mba_rules(postHIHM)\n",
    "postHILM_mba = get_mba_rules(postHILM)"
   ]
  },
  {
   "cell_type": "code",
   "execution_count": 14,
   "metadata": {},
   "outputs": [],
   "source": [
    "preHIHM_mba.to_csv('../cleaned_data/preMCOHIHM_mba_rules_30_Aug.csv')\n",
    "preHILM_mba.to_csv('../cleaned_data/preMCOHILM_mba_rules_30_Aug.csv')\n",
    "postHIHM_mba.to_csv('../cleaned_data/postMCOHIHM_mba_rules_30_Aug.csv')\n",
    "postHILM_mba.to_csv('../cleaned_data/postMCOHILM_mba_rules_30_Aug.csv')"
   ]
  }
 ],
 "metadata": {
  "kernelspec": {
   "display_name": "Python 3",
   "language": "python",
   "name": "python3"
  },
  "language_info": {
   "codemirror_mode": {
    "name": "ipython",
    "version": 3
   },
   "file_extension": ".py",
   "mimetype": "text/x-python",
   "name": "python",
   "nbconvert_exporter": "python",
   "pygments_lexer": "ipython3",
   "version": "3.8.3"
  }
 },
 "nbformat": 4,
 "nbformat_minor": 4
}
