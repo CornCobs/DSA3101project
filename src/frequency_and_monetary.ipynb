{
  "nbformat": 4,
  "nbformat_minor": 0,
  "metadata": {
    "colab": {
      "name": "frequency_and_monetary.ipynb",
      "provenance": [],
      "collapsed_sections": []
    },
    "kernelspec": {
      "name": "python3",
      "display_name": "Python 3"
    }
  },
  "cells": [
    {
      "cell_type": "code",
      "metadata": {
        "id": "2JRfctOAsGm4",
        "outputId": "b76973fd-f02b-45f1-a31a-da6cb39bca15",
        "colab": {
          "base_uri": "https://localhost:8080/",
          "height": 195
        }
      },
      "source": [
        "import pandas as pd\n",
        "import os\n",
        "import numpy as np\n",
        "import time\n",
        "from sklearn import preprocessing\n",
        "from sklearn.preprocessing import MinMaxScaler\n",
        "from sklearn.linear_model import LogisticRegression\n",
        "from sklearn.tree import DecisionTreeClassifier\n",
        "\n",
        "data = pd.read_csv(\"/content/drive/My Drive/data/imputed_data.csv\", parse_dates=[1], names=['Panel ID', 'Date', 'Category', 'Pack Size', 'Volume', 'Spend'], skiprows=1)\n",
        "panel_demo = pd.read_excel(\"/content/drive/My Drive/data/DSA3101_Hackathon_Panelists_Demographics.xlsx\")\n",
        "panel_demo.columns = [\"ID\", \"BMI\", \"Income\", \"Ethnicity\", \"Lifestage\", \"Stata\", \"HH\", \"Location\"]\n",
        "\n",
        "data.sort_values(\"Date\", inplace=True)\n",
        "\n",
        "le = preprocessing.LabelEncoder()\n",
        "data['Week'] = le.fit_transform(data.Date)\n",
        "\n",
        "data = data[[\"Panel ID\", \"Category\", \"Spend\", \"Week\"]].merge(data.groupby([\"Panel ID\"]).agg({\"Week\": min}).reset_index(), on=\"Panel ID\")\n",
        "data.columns = [\"Panel ID\", \"Category\", \"Spend\", \"Week\", \"First Week\"]\n",
        "data.tail()"
      ],
      "execution_count": 1,
      "outputs": [
        {
          "output_type": "execute_result",
          "data": {
            "text/html": [
              "<div>\n",
              "<style scoped>\n",
              "    .dataframe tbody tr th:only-of-type {\n",
              "        vertical-align: middle;\n",
              "    }\n",
              "\n",
              "    .dataframe tbody tr th {\n",
              "        vertical-align: top;\n",
              "    }\n",
              "\n",
              "    .dataframe thead th {\n",
              "        text-align: right;\n",
              "    }\n",
              "</style>\n",
              "<table border=\"1\" class=\"dataframe\">\n",
              "  <thead>\n",
              "    <tr style=\"text-align: right;\">\n",
              "      <th></th>\n",
              "      <th>Panel ID</th>\n",
              "      <th>Category</th>\n",
              "      <th>Spend</th>\n",
              "      <th>Week</th>\n",
              "      <th>First Week</th>\n",
              "    </tr>\n",
              "  </thead>\n",
              "  <tbody>\n",
              "    <tr>\n",
              "      <th>1300582</th>\n",
              "      <td>Panel 801865301</td>\n",
              "      <td>Cordials</td>\n",
              "      <td>3.0</td>\n",
              "      <td>147</td>\n",
              "      <td>136</td>\n",
              "    </tr>\n",
              "    <tr>\n",
              "      <th>1300583</th>\n",
              "      <td>Panel 801865301</td>\n",
              "      <td>Liquid Milk</td>\n",
              "      <td>4.2</td>\n",
              "      <td>147</td>\n",
              "      <td>136</td>\n",
              "    </tr>\n",
              "    <tr>\n",
              "      <th>1300584</th>\n",
              "      <td>Panel 801865301</td>\n",
              "      <td>Condensed/Evap Milk</td>\n",
              "      <td>5.1</td>\n",
              "      <td>147</td>\n",
              "      <td>136</td>\n",
              "    </tr>\n",
              "    <tr>\n",
              "      <th>1300585</th>\n",
              "      <td>Panel 801865301</td>\n",
              "      <td>Milk Powder-Adult</td>\n",
              "      <td>17.5</td>\n",
              "      <td>147</td>\n",
              "      <td>136</td>\n",
              "    </tr>\n",
              "    <tr>\n",
              "      <th>1300586</th>\n",
              "      <td>Panel 801865301</td>\n",
              "      <td>Chocolate</td>\n",
              "      <td>8.7</td>\n",
              "      <td>147</td>\n",
              "      <td>136</td>\n",
              "    </tr>\n",
              "  </tbody>\n",
              "</table>\n",
              "</div>"
            ],
            "text/plain": [
              "                Panel ID             Category  Spend  Week  First Week\n",
              "1300582  Panel 801865301             Cordials    3.0   147         136\n",
              "1300583  Panel 801865301          Liquid Milk    4.2   147         136\n",
              "1300584  Panel 801865301  Condensed/Evap Milk    5.1   147         136\n",
              "1300585  Panel 801865301    Milk Powder-Adult   17.5   147         136\n",
              "1300586  Panel 801865301            Chocolate    8.7   147         136"
            ]
          },
          "metadata": {
            "tags": []
          },
          "execution_count": 1
        }
      ]
    },
    {
      "cell_type": "code",
      "metadata": {
        "id": "rn2FzQ8HqcEY",
        "outputId": "57642b7a-ea4a-4586-c7fe-1d33bc88bc00",
        "colab": {
          "base_uri": "https://localhost:8080/",
          "height": 34
        }
      },
      "source": [
        "train = data[(data[\"First Week\"] < 52) & (data[\"Week\"] < 52)]    # 2575 customers\n",
        "val = data[( 52 <= data[\"First Week\"]) & (data[\"First Week\"] < 104) & (52 <= data[\"Week\"]) & (data[\"Week\"] < 104)]    # 373 customers\n",
        "test = data[(data[\"First Week\"] >= 104) & (data[\"Week\"] >= 104)]    # 288 customers\n",
        "print(train[\"Panel ID\"].unique().shape, val[\"Panel ID\"].unique().shape, test[\"Panel ID\"].unique().shape)"
      ],
      "execution_count": 2,
      "outputs": [
        {
          "output_type": "stream",
          "text": [
            "(2575,) (373,) (288,)\n"
          ],
          "name": "stdout"
        }
      ]
    },
    {
      "cell_type": "code",
      "metadata": {
        "id": "B5wcz1AUAlwI",
        "outputId": "04f64e8d-33cc-4237-b8a8-0a2df4bf2ac5",
        "colab": {
          "base_uri": "https://localhost:8080/",
          "height": 195
        }
      },
      "source": [
        "train.head()"
      ],
      "execution_count": 3,
      "outputs": [
        {
          "output_type": "execute_result",
          "data": {
            "text/html": [
              "<div>\n",
              "<style scoped>\n",
              "    .dataframe tbody tr th:only-of-type {\n",
              "        vertical-align: middle;\n",
              "    }\n",
              "\n",
              "    .dataframe tbody tr th {\n",
              "        vertical-align: top;\n",
              "    }\n",
              "\n",
              "    .dataframe thead th {\n",
              "        text-align: right;\n",
              "    }\n",
              "</style>\n",
              "<table border=\"1\" class=\"dataframe\">\n",
              "  <thead>\n",
              "    <tr style=\"text-align: right;\">\n",
              "      <th></th>\n",
              "      <th>Panel ID</th>\n",
              "      <th>Category</th>\n",
              "      <th>Spend</th>\n",
              "      <th>Week</th>\n",
              "      <th>First Week</th>\n",
              "    </tr>\n",
              "  </thead>\n",
              "  <tbody>\n",
              "    <tr>\n",
              "      <th>0</th>\n",
              "      <td>Panel 317007101</td>\n",
              "      <td>Frozen Food</td>\n",
              "      <td>5.8</td>\n",
              "      <td>0</td>\n",
              "      <td>0</td>\n",
              "    </tr>\n",
              "    <tr>\n",
              "      <th>1</th>\n",
              "      <td>Panel 317007101</td>\n",
              "      <td>Cooking Sauces</td>\n",
              "      <td>8.5</td>\n",
              "      <td>0</td>\n",
              "      <td>0</td>\n",
              "    </tr>\n",
              "    <tr>\n",
              "      <th>2</th>\n",
              "      <td>Panel 317007101</td>\n",
              "      <td>Snack</td>\n",
              "      <td>8.0</td>\n",
              "      <td>0</td>\n",
              "      <td>0</td>\n",
              "    </tr>\n",
              "    <tr>\n",
              "      <th>3</th>\n",
              "      <td>Panel 317007101</td>\n",
              "      <td>Snack</td>\n",
              "      <td>5.0</td>\n",
              "      <td>0</td>\n",
              "      <td>0</td>\n",
              "    </tr>\n",
              "    <tr>\n",
              "      <th>4</th>\n",
              "      <td>Panel 317007101</td>\n",
              "      <td>Cake</td>\n",
              "      <td>6.0</td>\n",
              "      <td>0</td>\n",
              "      <td>0</td>\n",
              "    </tr>\n",
              "  </tbody>\n",
              "</table>\n",
              "</div>"
            ],
            "text/plain": [
              "          Panel ID        Category  Spend  Week  First Week\n",
              "0  Panel 317007101     Frozen Food    5.8     0           0\n",
              "1  Panel 317007101  Cooking Sauces    8.5     0           0\n",
              "2  Panel 317007101           Snack    8.0     0           0\n",
              "3  Panel 317007101           Snack    5.0     0           0\n",
              "4  Panel 317007101            Cake    6.0     0           0"
            ]
          },
          "metadata": {
            "tags": []
          },
          "execution_count": 3
        }
      ]
    },
    {
      "cell_type": "code",
      "metadata": {
        "id": "E53ooSiGr4M-",
        "outputId": "7cd04f4b-8b1a-47f6-f7e9-e584c1c31f20",
        "colab": {
          "base_uri": "https://localhost:8080/",
          "height": 67
        }
      },
      "source": [
        "%%time\n",
        "def week_EMA(x):\n",
        "    lst = x.shift(-1)-x\n",
        "    return lst.ewm(alpha=1e-3).mean().tail(1).values\n",
        "\n",
        "def Monetary_EMA(x):\n",
        "    return x.ewm(alpha=1e-3).mean().tail(1).values\n",
        "\n",
        "def frequency(data, cutoff_date):\n",
        "    \"\"\"\n",
        "    cutoff_date = 52, 104 or 156\n",
        "    \"\"\"\n",
        "    df = data.groupby([\"Panel ID\", \"Week\"]) \\\n",
        "        .agg({'Spend': sum}) \\\n",
        "        .reset_index()\n",
        "\n",
        "    df_last_week = data[[\"Panel ID\"]].drop_duplicates()\n",
        "    df_last_week[\"Week\"] = cutoff_date - 1\n",
        "\n",
        "    df = df.merge(df_last_week, on=[\"Panel ID\", \"Week\"], how=\"outer\") \\\n",
        "        .fillna(0) \\\n",
        "        .groupby(\"Panel ID\") \\\n",
        "        .agg({\"Week\": [min, max, week_EMA]}) \\\n",
        "        .reset_index()\n",
        "    \n",
        "    df.columns = [\"Panel ID\", \"First Week\", \"Last Week\", \"Frequency_EMA\"]\n",
        "    df = df[df[\"First Week\"] <= cutoff_date-3]    # remove customers that newly joined close to our cutoff date\n",
        "    return df[[\"Panel ID\", \"Frequency_EMA\"]]\n",
        "\n",
        "def monetary(data, cutoff_date):\n",
        "    \"\"\"\n",
        "    cutoff_date = 52, 104 or 156\n",
        "    \"\"\"\n",
        "    df = data.groupby([\"Panel ID\", \"Week\"]) \\\n",
        "        .agg({'Spend': sum}) \\\n",
        "        .reset_index() \\\n",
        "        .pivot_table(index=['Panel ID'], columns='Week', values='Spend') \\\n",
        "        .fillna(0) \\\n",
        "        .reset_index() \\\n",
        "        .melt(id_vars=[\"Panel ID\"], value_vars=list(range(cutoff_date-52, cutoff_date)))\n",
        "\n",
        "    df = df.merge(data[[\"Panel ID\", \"First Week\"]], on=\"Panel ID\", how=\"left\")\n",
        "    df = df[df[\"First Week\"] <= df[\"Week\"]]\n",
        "    df = df.groupby(\"Panel ID\") \\\n",
        "        .agg({\"value\": Monetary_EMA}) \\\n",
        "        .reset_index()\n",
        "\n",
        "    df.columns = [\"Panel ID\", \"Monetary_EMA\"]\n",
        "    return df\n",
        "\n",
        "def first_purchases(df):\n",
        "    pivot = data.pivot_table(index=['Panel ID', \"First Week\"], columns='Category', values='Spend')\n",
        "    df = df[[\"Panel ID\", \"First Week\"]] \\\n",
        "        .merge(data[[\"Panel ID\", \"Week\", \"Category\", \"Spend\"]], how=\"left\", left_on=[\"Panel ID\", \"First Week\"], right_on=[\"Panel ID\", \"Week\"]) \\\n",
        "        .pivot_table(index=['Panel ID', 'First Week'], columns='Category', values='Spend') \\\n",
        "        .reset_index()\n",
        "    df = pd.concat([df, pd.DataFrame(columns=list(pivot.columns[~pivot.columns.isin(df.columns)]))]) \\\n",
        "        .fillna(0) \\\n",
        "        .drop(['First Week'], axis=1)\n",
        "    return df\n",
        "\n",
        "train_df = frequency(train, cutoff_date=52) \\\n",
        "    .merge(monetary(train, cutoff_date=52), on=\"Panel ID\", how=\"left\") \\\n",
        "    .merge(first_purchases(train), on=[\"Panel ID\"], how=\"left\") \\\n",
        "    .merge(panel_demo, how=\"left\", left_on=\"Panel ID\", right_on=\"ID\") \\\n",
        "    .drop(['ID'], axis=1)\n",
        "val_df = frequency(val, cutoff_date=104) \\\n",
        "    .merge(monetary(val, cutoff_date=104), on=\"Panel ID\", how=\"left\") \\\n",
        "    .merge(first_purchases(val), on=[\"Panel ID\"], how=\"left\") \\\n",
        "    .merge(panel_demo, how=\"left\", left_on=\"Panel ID\", right_on=\"ID\") \\\n",
        "    .drop(['ID'], axis=1)\n",
        "test_df = frequency(test, cutoff_date=156) \\\n",
        "    .merge(monetary(test, cutoff_date=156), on=\"Panel ID\", how=\"left\") \\\n",
        "    .merge(first_purchases(test), on=[\"Panel ID\"], how=\"left\") \\\n",
        "    .merge(panel_demo, how=\"left\", left_on=\"Panel ID\", right_on=\"ID\") \\\n",
        "    .drop(['ID'], axis=1)\n",
        "\n",
        "print(train_df.shape, val_df.shape, test_df.shape)\n",
        "\n",
        "# train_df.to_csv(\"/content/drive/My Drive/data/train_df.csv\", index=False)\n",
        "# test_df.to_csv(\"/content/drive/My Drive/data/test_df.csv\", index=False)\n",
        "# val_df.to_csv(\"/content/drive/My Drive/data/val_df.csv\", index=False)"
      ],
      "execution_count": 4,
      "outputs": [
        {
          "output_type": "stream",
          "text": [
            "(2575, 72) (364, 72) (288, 72)\n",
            "CPU times: user 11.7 s, sys: 1.11 s, total: 12.8 s\n",
            "Wall time: 12.9 s\n"
          ],
          "name": "stdout"
        }
      ]
    },
    {
      "cell_type": "code",
      "metadata": {
        "id": "2ZQi1zWTwJff",
        "outputId": "50d289e2-8d52-4b64-9d59-6000f0aa125e",
        "colab": {
          "base_uri": "https://localhost:8080/",
          "height": 890
        }
      },
      "source": [
        "train_df.Frequency_EMA.value_counts(normalize=True, bins=range(52))\n",
        "# ~76.8% of the panels in training have Frequency_EMA <= 2 so we can consider a customer to be frequent if the Frequency_EMA <= 2"
      ],
      "execution_count": 5,
      "outputs": [
        {
          "output_type": "execute_result",
          "data": {
            "text/plain": [
              "(1.0, 2.0]       0.690097\n",
              "(2.0, 3.0]       0.084660\n",
              "(-0.001, 1.0]    0.078058\n",
              "(3.0, 4.0]       0.041553\n",
              "(4.0, 5.0]       0.020971\n",
              "(5.0, 6.0]       0.018252\n",
              "(7.0, 8.0]       0.009320\n",
              "(6.0, 7.0]       0.008544\n",
              "(12.0, 13.0]     0.006602\n",
              "(8.0, 9.0]       0.005437\n",
              "(17.0, 18.0]     0.005049\n",
              "(10.0, 11.0]     0.004660\n",
              "(11.0, 12.0]     0.004660\n",
              "(15.0, 16.0]     0.003883\n",
              "(25.0, 26.0]     0.003495\n",
              "(9.0, 10.0]      0.003107\n",
              "(23.0, 24.0]     0.002330\n",
              "(14.0, 15.0]     0.001942\n",
              "(13.0, 14.0]     0.001553\n",
              "(21.0, 22.0]     0.001165\n",
              "(16.0, 17.0]     0.000777\n",
              "(19.0, 20.0]     0.000777\n",
              "(50.0, 51.0]     0.000777\n",
              "(48.0, 49.0]     0.000777\n",
              "(22.0, 23.0]     0.000388\n",
              "(18.0, 19.0]     0.000388\n",
              "(38.0, 39.0]     0.000388\n",
              "(24.0, 25.0]     0.000388\n",
              "(42.0, 43.0]     0.000000\n",
              "(41.0, 42.0]     0.000000\n",
              "(43.0, 44.0]     0.000000\n",
              "(44.0, 45.0]     0.000000\n",
              "(45.0, 46.0]     0.000000\n",
              "(46.0, 47.0]     0.000000\n",
              "(40.0, 41.0]     0.000000\n",
              "(47.0, 48.0]     0.000000\n",
              "(39.0, 40.0]     0.000000\n",
              "(35.0, 36.0]     0.000000\n",
              "(37.0, 38.0]     0.000000\n",
              "(34.0, 35.0]     0.000000\n",
              "(20.0, 21.0]     0.000000\n",
              "(49.0, 50.0]     0.000000\n",
              "(26.0, 27.0]     0.000000\n",
              "(27.0, 28.0]     0.000000\n",
              "(28.0, 29.0]     0.000000\n",
              "(29.0, 30.0]     0.000000\n",
              "(30.0, 31.0]     0.000000\n",
              "(31.0, 32.0]     0.000000\n",
              "(32.0, 33.0]     0.000000\n",
              "(33.0, 34.0]     0.000000\n",
              "(36.0, 37.0]     0.000000\n",
              "Name: Frequency_EMA, dtype: float64"
            ]
          },
          "metadata": {
            "tags": []
          },
          "execution_count": 5
        }
      ]
    },
    {
      "cell_type": "code",
      "metadata": {
        "id": "M0L2BNOuV5GA",
        "outputId": "0436d236-4d4c-4d27-cce0-b80ee1e39320",
        "colab": {
          "base_uri": "https://localhost:8080/",
          "height": 134
        }
      },
      "source": [
        "train_df.Monetary_EMA.value_counts(normalize=True, bins=range(0, int(train_df.Monetary_EMA.max())+1, 50))\n",
        "# ~80.6% of the panels in training have Monetary_EMA <= 50 so we can consider a customer to be frequent if the Monetary_EMA <= 50"
      ],
      "execution_count": 6,
      "outputs": [
        {
          "output_type": "execute_result",
          "data": {
            "text/plain": [
              "(-0.001, 50.0]    0.806214\n",
              "(50.0, 100.0]     0.163883\n",
              "(100.0, 150.0]    0.022136\n",
              "(150.0, 200.0]    0.005049\n",
              "(200.0, 250.0]    0.002330\n",
              "(250.0, 300.0]    0.000000\n",
              "Name: Monetary_EMA, dtype: float64"
            ]
          },
          "metadata": {
            "tags": []
          },
          "execution_count": 6
        }
      ]
    },
    {
      "cell_type": "markdown",
      "metadata": {
        "id": "JBgwbqxigcY-"
      },
      "source": [
        "# Modeling"
      ]
    },
    {
      "cell_type": "code",
      "metadata": {
        "id": "QHxH3NNZgbqO"
      },
      "source": [
        "scaler = None\n",
        "def dataloader(df, scalar, target):\n",
        "    columns = list(panel_demo.columns)\n",
        "    columns.remove(\"ID\")\n",
        "\n",
        "    df[\"Frequency_EMA\"] = (df[\"Frequency_EMA\"] <= 2).map(int)\n",
        "    df[\"Monetary_EMA\"] = (df[\"Monetary_EMA\"] > 50).map(int)\n",
        "    df = pd.get_dummies(df, columns=columns)\n",
        "    data = df.drop(['Panel ID', 'Frequency_EMA', 'Monetary_EMA'], axis=1)\n",
        "    if scaler == None:\n",
        "        X = pd.DataFrame(MinMaxScaler().fit_transform(data), \n",
        "                            columns=data.columns)\n",
        "    else:\n",
        "        X = pd.DataFrame(scaler.transform(data), \n",
        "                            columns=data.columns)\n",
        "    y = df[target]\n",
        "    data = pd.concat([X, y], axis=1)\n",
        "    return X, y, data, scalar\n",
        "    \n",
        "# train_X, train_y, train, scaler = dataloader(train_df, scaler, target=\"Frequency_EMA\")\n",
        "# val_X, val_y, val, scaler = dataloader(val_df, scaler, target=\"Frequency_EMA\")\n",
        "# test_X, test_y, test, scaler = dataloader(test_df, scaler, target=\"Frequency_EMA\")\n",
        "train_X, train_y, train, scaler = dataloader(train_df, scaler, target=\"Monetary_EMA\")\n",
        "val_X, val_y, val, scaler = dataloader(val_df, scaler, target=\"Monetary_EMA\")\n",
        "test_X, test_y, test, scaler = dataloader(test_df, scaler, target=\"Monetary_EMA\")"
      ],
      "execution_count": 7,
      "outputs": []
    },
    {
      "cell_type": "code",
      "metadata": {
        "id": "QzYTT_4-_UGi"
      },
      "source": [
        ""
      ],
      "execution_count": 7,
      "outputs": []
    },
    {
      "cell_type": "code",
      "metadata": {
        "id": "YVobBo9Q_UEb"
      },
      "source": [
        ""
      ],
      "execution_count": 7,
      "outputs": []
    },
    {
      "cell_type": "code",
      "metadata": {
        "id": "FJ1AzOOt_T_c"
      },
      "source": [
        ""
      ],
      "execution_count": 7,
      "outputs": []
    },
    {
      "cell_type": "code",
      "metadata": {
        "id": "ZWwW7fARgb50"
      },
      "source": [
        ""
      ],
      "execution_count": 7,
      "outputs": []
    }
  ]
}